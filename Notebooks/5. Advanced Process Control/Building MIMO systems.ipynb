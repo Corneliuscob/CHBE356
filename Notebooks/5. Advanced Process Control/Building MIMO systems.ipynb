{
 "cells": [
  {
   "cell_type": "markdown",
   "metadata": {},
   "source": [
    "# Building MIMO systems\n",
    "\n",
    "This notebook describes how to define MIMO systems in the `python-control` library. We'll use the Wood-Berry (1973) distillation model as an example for a MIMO system.\n",
    "\n",
    "*Note: You'll need `slycot` installed to work with MIMO systems in `python-control`.*\n",
    "\n",
    "Details of the model is available in **Loquasto and Seborg (2013) [1]**:\n",
    "\n",
    "> The Wood-Berry model is a well-known 2 × 2 transfer function model of a pilot-plant distillation column for a methanol-water mixture. The output variables are the distillate and bottoms compositions, $x_D$ and $x_B$ [weight % methanol]. They are controlled by manipulating the reflux and steam flow rates, $R$ and $S$ [lb/min]. The feed flow rate, $F$, is an unmeasured disturbance variable.\n",
    "\n",
    "\n",
    "References:\n",
    "\n",
    "1. See Case Study 5: [Loquasto, Fred, and Dale E. Seborg. \"Monitoring model predictive control systems using pattern classification and neural networks.\" *Industrial & engineering chemistry research* 42.20 (2003): 4689-4701.](http://www.chemengr.ucsb.edu/~ceweb/faculty/seborg/pdfs/Loquasto_IEC.pdf)"
   ]
  },
  {
   "cell_type": "markdown",
   "metadata": {},
   "source": [
    "As you can see in the paper, the Wood-Berry MIMO model is given in the form of a transfer function matrix:\n",
    "\n",
    "$\n",
    "\\begin{bmatrix}\n",
    "x_D(s) \\\\\n",
    "x_B(s) \n",
    "\\end{bmatrix}= \n",
    "\\begin{bmatrix}\n",
    "G_{11} & G_{12} \\\\\n",
    "G_{21} & G_{22} \n",
    "\\end{bmatrix}\n",
    "\\begin{bmatrix}\n",
    "R(s) \\\\\n",
    "S(s) \n",
    "\\end{bmatrix}+\n",
    "\\begin{bmatrix}\n",
    "G_{1F} \\\\\n",
    "G_{2F} \n",
    "\\end{bmatrix}\n",
    "F(s)\n",
    "$\n",
    "\n",
    "Here's how we define a MIMO system in the `control` library:"
   ]
  },
  {
   "cell_type": "code",
   "execution_count": 13,
   "metadata": {
    "collapsed": true
   },
   "outputs": [],
   "source": [
    "import control"
   ]
  },
  {
   "cell_type": "markdown",
   "metadata": {},
   "source": [
    "### 1. Define the transfer function using its coefficients\n",
    "Let's start with $G_{11}$. Here's the transfer function without a time delay using `control.tf`. Easy:"
   ]
  },
  {
   "cell_type": "code",
   "execution_count": 14,
   "metadata": {},
   "outputs": [
    {
     "data": {
      "text/plain": [
       "\n",
       "   12.8\n",
       "----------\n",
       "16.7 s + 1"
      ]
     },
     "execution_count": 14,
     "metadata": {},
     "output_type": "execute_result"
    }
   ],
   "source": [
    "g11_tf = control.tf([12.8], [16.7,1])\n",
    "g11_tf"
   ]
  },
  {
   "cell_type": "markdown",
   "metadata": {},
   "source": [
    "### 2. Add the time delay\n",
    "We'll use a first-order Pade approximation using `control.pade`.\n",
    "\n",
    "`control.pade` returns 2 outputs for the approximation, the coefficients of the (1) numerator and the (2) denominator. We'll use that to generate a transfer function with `control.tf`:"
   ]
  },
  {
   "cell_type": "code",
   "execution_count": 15,
   "metadata": {},
   "outputs": [
    {
     "data": {
      "text/plain": [
       "\n",
       "-s + 2\n",
       "------\n",
       "s + 2"
      ]
     },
     "execution_count": 15,
     "metadata": {},
     "output_type": "execute_result"
    }
   ],
   "source": [
    "delay = 1\n",
    "num, deg = control.pade(delay)\n",
    "control.tf(num, deg)"
   ]
  },
  {
   "cell_type": "markdown",
   "metadata": {},
   "source": [
    "### 3. Combine the time delay with the transfer function\n",
    "We can now multiply `g11_tf` with the delay approximation to get the final transfer function for $G_{11}$:"
   ]
  },
  {
   "cell_type": "code",
   "execution_count": 16,
   "metadata": {},
   "outputs": [
    {
     "data": {
      "text/plain": [
       "\n",
       "    -12.8 s + 25.6\n",
       "---------------------\n",
       "16.7 s^2 + 34.4 s + 2"
      ]
     },
     "execution_count": 16,
     "metadata": {},
     "output_type": "execute_result"
    }
   ],
   "source": [
    "g11 = g11_tf*control.tf(num, deg)\n",
    "g11"
   ]
  },
  {
   "cell_type": "markdown",
   "metadata": {},
   "source": [
    "### 4. Now repeat for all the other transfer functions $G_{12}$, $G_{21}$, $G_{22}$ etc.:"
   ]
  },
  {
   "cell_type": "code",
   "execution_count": 17,
   "metadata": {
    "collapsed": true
   },
   "outputs": [],
   "source": [
    "g_tf = control.tf([12.8], [16.7,1])\n",
    "delay = 1\n",
    "num, deg = control.pade(delay)\n",
    "g11 = g_tf*control.tf(num, deg)\n",
    "\n",
    "g_tf = control.tf([-18.9], [21.0,1])\n",
    "delay = 3\n",
    "num, deg = control.pade(delay)\n",
    "g12 = g_tf*control.tf(num, deg)\n",
    "\n",
    "g_tf = control.tf([6.6], [10.9,1])\n",
    "delay = 7\n",
    "num, deg = control.pade(delay)\n",
    "g21 = g_tf*control.tf(num, deg)\n",
    "\n",
    "g_tf = control.tf([-19.4], [14.4,1])\n",
    "delay = 3\n",
    "num, deg = control.pade(delay)\n",
    "g22 = g_tf*control.tf(num, deg)\n",
    "\n",
    "g_tf = control.tf([3.8], [14.9,1])\n",
    "delay = 8\n",
    "num, deg = control.pade(delay)\n",
    "g1f = g_tf*control.tf(num, deg)\n",
    "\n",
    "g_tf = control.tf([4.9], [13.2,1])\n",
    "delay = 3\n",
    "num, deg = control.pade(delay)\n",
    "g2f = g_tf*control.tf(num, deg)"
   ]
  },
  {
   "cell_type": "markdown",
   "metadata": {},
   "source": [
    "### 5. Bring it all together into one MIMO system\n",
    "\n",
    "Now that we have all the transfer functions, we need to piece it together into a transfer function matrix this form using `control.tf`:\n",
    "\n",
    "\\begin{bmatrix}\n",
    "G_{11} & G_{12} \\\\\n",
    "G_{21} & G_{22} \n",
    "\\end{bmatrix}\n",
    "\n",
    "According to the documentation:\n",
    "\n",
    "> \"To create a MIMO system, num and den need to be 2D nested lists of array_like objects\"\n",
    "\n",
    "This means that we need to split the transfer functions into the coefficients of their numerators and denominators and created a nested array of `[numerators, denominators]`. \n",
    "\n",
    "- Each element in `numerators` contains an array of coefficients for a particular row in the TF matrix, i.e. `numerators` = [num_row1, num_row2].\n",
    "- Whereas each element in the `num_row` arrays contains the coefficients of a particular TF in that row, i.e. `num_row1` = coefficients of g11.\n",
    "- Same goes for `denominators`.\n",
    "\n",
    "In other words, our MIMO system needs to be defined as follows:\n",
    "\n",
    "```python\n",
    "control.tf([[\n",
    "             [G11_num, G12_num],\n",
    "             [G21_num, G22_num],\n",
    "            ],\n",
    "            [\n",
    "             [G11_den, G12_den],\n",
    "             [G21_den, G22_den],            \n",
    "            ]])\n",
    "```\n",
    "\n",
    "Let's start with an example for $G_{11}$:"
   ]
  },
  {
   "cell_type": "code",
   "execution_count": 18,
   "metadata": {},
   "outputs": [
    {
     "data": {
      "text/plain": [
       "[[array([-12.8,  25.6])]]"
      ]
     },
     "execution_count": 18,
     "metadata": {},
     "output_type": "execute_result"
    }
   ],
   "source": [
    "g11.num"
   ]
  },
  {
   "cell_type": "markdown",
   "metadata": {},
   "source": [
    "Notice that the `control` library returns doubly nested array of coefficients. We'll need to dive 2 layers into the array to grab the coefficients of one coefficient in one array:"
   ]
  },
  {
   "cell_type": "code",
   "execution_count": 19,
   "metadata": {},
   "outputs": [
    {
     "data": {
      "text/plain": [
       "array([-12.8,  25.6])"
      ]
     },
     "execution_count": 19,
     "metadata": {},
     "output_type": "execute_result"
    }
   ],
   "source": [
    "g11.num[0][0]"
   ]
  },
  {
   "cell_type": "markdown",
   "metadata": {},
   "source": [
    "Now let's do the same thing for the other transfer functions. We'll use list comprehension to group the coefficients of one row together. \n",
    "\n",
    "To obtain `[G11_num, G12_num]`, we would do:"
   ]
  },
  {
   "cell_type": "code",
   "execution_count": 20,
   "metadata": {},
   "outputs": [
    {
     "data": {
      "text/plain": [
       "[array([-12.8,  25.6]), array([ 18.9, -12.6])]"
      ]
     },
     "execution_count": 20,
     "metadata": {},
     "output_type": "execute_result"
    }
   ],
   "source": [
    "[x[0][0] for x in (g11.num, g12.num)]"
   ]
  },
  {
   "cell_type": "code",
   "execution_count": 21,
   "metadata": {
    "collapsed": true
   },
   "outputs": [],
   "source": [
    "row_1_num = [x[0][0] for x in (g11.num, g12.num)]\n",
    "row_2_num = [x[0][0] for x in (g21.num, g22.num)]\n",
    "row_1_den = [x[0][0] for x in (g11.den, g12.den)]\n",
    "row_2_den = [x[0][0] for x in (g21.den, g22.den)]"
   ]
  },
  {
   "cell_type": "markdown",
   "metadata": {},
   "source": [
    "Now it's easy to combine them together to get our MIMO system:"
   ]
  },
  {
   "cell_type": "code",
   "execution_count": 22,
   "metadata": {},
   "outputs": [
    {
     "data": {
      "text/plain": [
       "\n",
       "Input 1 to output 1:\n",
       "    -12.8 s + 25.6\n",
       "---------------------\n",
       "16.7 s^2 + 34.4 s + 2\n",
       "\n",
       "Input 1 to output 2:\n",
       "      -6.6 s + 1.886\n",
       "---------------------------\n",
       "10.9 s^2 + 4.114 s + 0.2857\n",
       "\n",
       "Input 2 to output 1:\n",
       "    18.9 s - 12.6\n",
       "----------------------\n",
       "21 s^2 + 15 s + 0.6667\n",
       "\n",
       "Input 2 to output 2:\n",
       "      19.4 s - 12.93\n",
       "--------------------------\n",
       "14.4 s^2 + 10.6 s + 0.6667"
      ]
     },
     "execution_count": 22,
     "metadata": {},
     "output_type": "execute_result"
    }
   ],
   "source": [
    "sys = control.tf(\n",
    "    [row_1_num,row_2_num],\n",
    "    [row_1_den,row_2_den]\n",
    ")\n",
    "sys"
   ]
  },
  {
   "cell_type": "markdown",
   "metadata": {},
   "source": [
    "#### Section reserved (TODO)\n",
    "\n",
    "I need to figure out how to make linear combinations of TF matrices in the `control` library.\n",
    "\n",
    "---\n"
   ]
  },
  {
   "cell_type": "markdown",
   "metadata": {},
   "source": [
    "### 5. Alternative method by rearranging the equation\n",
    "\n",
    "What about the second term with the Feed? With some simple algebraic manipulation, we can see that our original equation is equivalent to a $3\\times2$ MIMO system:\n",
    "\n",
    "$\n",
    "\\begin{bmatrix}\n",
    "x_D(s) \\\\\n",
    "x_B(s) \n",
    "\\end{bmatrix}= \n",
    "\\begin{bmatrix}\n",
    "G_{11} & G_{12} & G_{1F}\\\\\n",
    "G_{21} & G_{22} & G_{2F}\n",
    "\\end{bmatrix}\n",
    "\\begin{bmatrix}\n",
    "R(s) \\\\\n",
    "S(s) \\\\\n",
    "F(s)\n",
    "\\end{bmatrix}\n",
    "$\n",
    "\n",
    "Knowing that, we can define our final MIMO system as follows:"
   ]
  },
  {
   "cell_type": "code",
   "execution_count": 23,
   "metadata": {},
   "outputs": [
    {
     "data": {
      "text/plain": [
       "\n",
       "Input 1 to output 1:\n",
       "    -12.8 s + 25.6\n",
       "---------------------\n",
       "16.7 s^2 + 34.4 s + 2\n",
       "\n",
       "Input 1 to output 2:\n",
       "      -6.6 s + 1.886\n",
       "---------------------------\n",
       "10.9 s^2 + 4.114 s + 0.2857\n",
       "\n",
       "Input 2 to output 1:\n",
       "    18.9 s - 12.6\n",
       "----------------------\n",
       "21 s^2 + 15 s + 0.6667\n",
       "\n",
       "Input 2 to output 2:\n",
       "      19.4 s - 12.93\n",
       "--------------------------\n",
       "14.4 s^2 + 10.6 s + 0.6667\n",
       "\n",
       "Input 3 to output 1:\n",
       "      -3.8 s + 0.95\n",
       "-------------------------\n",
       "14.9 s^2 + 4.725 s + 0.25\n",
       "\n",
       "Input 3 to output 2:\n",
       "      -4.9 s + 3.267\n",
       "-------------------------\n",
       "13.2 s^2 + 9.8 s + 0.6667"
      ]
     },
     "execution_count": 23,
     "metadata": {},
     "output_type": "execute_result"
    }
   ],
   "source": [
    "g_tf = control.tf([12.8], [16.7,1])\n",
    "td = 1\n",
    "g_delay = control.tf(control.pade(td,1)[0],control.pade(td,1)[1])\n",
    "g11 = g_tf*g_delay\n",
    "\n",
    "g_tf = control.tf([-18.9], [21.0,1])\n",
    "td = 3\n",
    "g_delay = control.tf(control.pade(td,1)[0],control.pade(td,1)[1])\n",
    "g12 = g_tf*g_delay\n",
    "\n",
    "g_tf = control.tf([6.6], [10.9,1])\n",
    "td = 7\n",
    "g_delay = control.tf(control.pade(td,1)[0],control.pade(td,1)[1])\n",
    "g21 = g_tf*g_delay\n",
    "\n",
    "g_tf = control.tf([-19.4], [14.4,1])\n",
    "td = 3\n",
    "g_delay = control.tf(control.pade(td,1)[0],control.pade(td,1)[1])\n",
    "g22 = g_tf*g_delay\n",
    "\n",
    "g_tf = control.tf([3.8], [14.9,1])\n",
    "td = 8\n",
    "g_delay = control.tf(control.pade(td,1)[0],control.pade(td,1)[1])\n",
    "g1f = g_tf*g_delay\n",
    "\n",
    "g_tf = control.tf([4.9], [13.2,1])\n",
    "td = 3\n",
    "g_delay = control.tf(control.pade(td,1)[0],control.pade(td,1)[1])\n",
    "g2f = g_tf*g_delay\n",
    "\n",
    "row_1_num = [x[0][0] for x in (g11.num, g12.num, g1f.num)]\n",
    "row_2_num = [x[0][0] for x in (g21.num, g22.num, g2f.num)]\n",
    "\n",
    "row_1_den = [x[0][0] for x in (g11.den, g12.den, g1f.den)]\n",
    "row_2_den = [x[0][0] for x in (g21.den, g22.den, g2f.den)]\n",
    "\n",
    "sys = control.tf(\n",
    "    [row_1_num,row_2_num],\n",
    "    [row_1_den,row_2_den]\n",
    ")\n",
    "\n",
    "sys"
   ]
  },
  {
   "cell_type": "markdown",
   "metadata": {},
   "source": [
    "## Takeaways:\n",
    "\n",
    "By the end of this notebook, you should be able to:\n",
    "\n",
    "1. Use `control.pade` to create a rational transfer function approximation for a time delay\n",
    "2. Build a MIMO system using `control.tf` by combining individual transfer functions to form a TF matrix"
   ]
  }
 ],
 "metadata": {
  "kernelspec": {
   "display_name": "Python 3",
   "language": "python",
   "name": "python3"
  },
  "language_info": {
   "codemirror_mode": {
    "name": "ipython",
    "version": 3
   },
   "file_extension": ".py",
   "mimetype": "text/x-python",
   "name": "python",
   "nbconvert_exporter": "python",
   "pygments_lexer": "ipython3",
   "version": "3.6.1"
  }
 },
 "nbformat": 4,
 "nbformat_minor": 2
}
