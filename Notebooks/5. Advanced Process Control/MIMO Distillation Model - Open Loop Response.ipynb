{
 "cells": [
  {
   "cell_type": "markdown",
   "metadata": {},
   "source": [
    "# Wood-Berry (1973) Distillation Model\n",
    "\n",
    "This notebook describes how to study the relationship between inputs and outputs in a MIMO system. We will be using the Wood-Berry Distillation Model.\n",
    "\n",
    "Details of the model is available in **Loquasto and Seborg (2013) [1]**:\n",
    "\n",
    "> The Wood-Berry model is a well-known 2 × 2 transfer function model of a pilot-plant distillation column for a methanol-water mixture. The output variables are the distillate and bottoms compositions, $x_D$ and $x_B$ [weight % methanol]. They are controlled by manipulating the reflux and steam flow rates, $R$ and $S$ [lb/min]. The feed flow rate, $F$, is an unmeasured disturbance variable.\n",
    "\n",
    "\n",
    "References:\n",
    "\n",
    "1. See Case Study 5: [Loquasto, Fred, and Dale E. Seborg. \"Monitoring model predictive control systems using pattern classification and neural networks.\" *Industrial & engineering chemistry research* 42.20 (2003): 4689-4701.](http://www.chemengr.ucsb.edu/~ceweb/faculty/seborg/pdfs/Loquasto_IEC.pdf)\n",
    "\n",
    "2. Other models available in [Khaki-Sedigh A., Moaveni B. (2009) Appendix: Mathematical Models Used in Examples. In: Control Configuration Selection for Multivariable Plants. Lecture Notes in Control and Information Sciences, vol 391. Springer, Berlin, Heidelberg](https://link.springer.com/chapter/10.1007/978-3-642-03193-9_8)"
   ]
  },
  {
   "cell_type": "markdown",
   "metadata": {},
   "source": [
    "In the previous notebook, we've built the MIMO system in the `control` library using a Pade approximation for the delay.\n",
    "\n",
    "Recall that the model is in the following form:\n",
    "\n",
    "$\n",
    "\\begin{bmatrix}\n",
    "x_D(s) \\\\\n",
    "x_B(s) \n",
    "\\end{bmatrix}= \n",
    "\\begin{bmatrix}\n",
    "G_{11} & G_{12} \\\\\n",
    "G_{21} & G_{22} \n",
    "\\end{bmatrix}\n",
    "\\begin{bmatrix}\n",
    "R(s) \\\\\n",
    "S(s) \n",
    "\\end{bmatrix}+\n",
    "\\begin{bmatrix}\n",
    "G_{1F} \\\\\n",
    "G_{2F} \n",
    "\\end{bmatrix}\n",
    "F(s)\n",
    "$"
   ]
  },
  {
   "cell_type": "markdown",
   "metadata": {},
   "source": [
    "### Define our Model\n",
    "Here's the model that we built in the previous notebook."
   ]
  },
  {
   "cell_type": "code",
   "execution_count": 408,
   "metadata": {},
   "outputs": [
    {
     "data": {
      "text/plain": [
       "\n",
       "Input 1 to output 1:\n",
       "    -12.8 s + 25.6\n",
       "---------------------\n",
       "16.7 s^2 + 34.4 s + 2\n",
       "\n",
       "Input 1 to output 2:\n",
       "      -6.6 s + 1.886\n",
       "---------------------------\n",
       "10.9 s^2 + 4.114 s + 0.2857\n",
       "\n",
       "Input 2 to output 1:\n",
       "    18.9 s - 12.6\n",
       "----------------------\n",
       "21 s^2 + 15 s + 0.6667\n",
       "\n",
       "Input 2 to output 2:\n",
       "      19.4 s - 12.93\n",
       "--------------------------\n",
       "14.4 s^2 + 10.6 s + 0.6667\n",
       "\n",
       "Input 3 to output 1:\n",
       "      -3.8 s + 0.95\n",
       "-------------------------\n",
       "14.9 s^2 + 4.725 s + 0.25\n",
       "\n",
       "Input 3 to output 2:\n",
       "      -4.9 s + 3.267\n",
       "-------------------------\n",
       "13.2 s^2 + 9.8 s + 0.6667"
      ]
     },
     "execution_count": 408,
     "metadata": {},
     "output_type": "execute_result"
    }
   ],
   "source": [
    "g_tf = control.tf([12.8], [16.7,1])\n",
    "td = 1\n",
    "g_delay = control.tf(control.pade(td,1)[0],control.pade(td,1)[1])\n",
    "g11 = g_tf*g_delay\n",
    "\n",
    "g_tf = control.tf([-18.9], [21.0,1])\n",
    "td = 3\n",
    "g_delay = control.tf(control.pade(td,1)[0],control.pade(td,1)[1])\n",
    "g12 = g_tf*g_delay\n",
    "\n",
    "g_tf = control.tf([6.6], [10.9,1])\n",
    "td = 7\n",
    "g_delay = control.tf(control.pade(td,1)[0],control.pade(td,1)[1])\n",
    "g21 = g_tf*g_delay\n",
    "\n",
    "g_tf = control.tf([-19.4], [14.4,1])\n",
    "td = 3\n",
    "g_delay = control.tf(control.pade(td,1)[0],control.pade(td,1)[1])\n",
    "g22 = g_tf*g_delay\n",
    "\n",
    "g_tf = control.tf([3.8], [14.9,1])\n",
    "td = 8\n",
    "g_delay = control.tf(control.pade(td,1)[0],control.pade(td,1)[1])\n",
    "g1f = g_tf*g_delay\n",
    "\n",
    "g_tf = control.tf([4.9], [13.2,1])\n",
    "td = 3\n",
    "g_delay = control.tf(control.pade(td,1)[0],control.pade(td,1)[1])\n",
    "g2f = g_tf*g_delay\n",
    "\n",
    "row_1_num = [x[0][0] for x in (g11.num, g12.num, g1f.num)]\n",
    "row_2_num = [x[0][0] for x in (g21.num, g22.num, g2f.num)]\n",
    "\n",
    "row_1_den = [x[0][0] for x in (g11.den, g12.den, g1f.den)]\n",
    "row_2_den = [x[0][0] for x in (g21.den, g22.den, g2f.den)]\n",
    "\n",
    "sys = control.tf(\n",
    "    [row_1_num,row_2_num],\n",
    "    [row_1_den,row_2_den]\n",
    ")\n",
    "\n",
    "sys"
   ]
  },
  {
   "cell_type": "markdown",
   "metadata": {
    "collapsed": true
   },
   "source": [
    "## Step Response\n",
    "We know that this is a $3\\times2$ MIMO system, there are 3 inputs (2 MVs: reflux and reboiler steam flow rates, and one FF variable: feed flow rate) and 2 outputs (2 DVs: top composition, bottom composition).\n",
    "\n",
    "To get the relationship between the MVs and DVs, we can perform a bump test using `control.step_response`."
   ]
  },
  {
   "cell_type": "markdown",
   "metadata": {},
   "source": [
    "### Bump test on reflux, $R(s)$:"
   ]
  },
  {
   "cell_type": "markdown",
   "metadata": {},
   "source": [
    "Import libraries:"
   ]
  },
  {
   "cell_type": "code",
   "execution_count": 410,
   "metadata": {
    "collapsed": true
   },
   "outputs": [],
   "source": [
    "%matplotlib inline\n",
    "import numpy as np\n",
    "import matplotlib.pyplot as plt\n",
    "T = np.linspace(0,200,1000)       # Define timescale for the bump test"
   ]
  },
  {
   "cell_type": "code",
   "execution_count": 411,
   "metadata": {
    "collapsed": true
   },
   "outputs": [],
   "source": [
    "T, y_R = control.step_response(sys,T,input=0)"
   ]
  },
  {
   "cell_type": "code",
   "execution_count": 412,
   "metadata": {},
   "outputs": [
    {
     "data": {
      "text/plain": [
       "<matplotlib.legend.Legend at 0x12314dfd0>"
      ]
     },
     "execution_count": 412,
     "metadata": {},
     "output_type": "execute_result"
    },
    {
     "data": {
      "image/png": "[encoded data removed]",
      "text/plain": [
       "<Figure size 432x288 with 1 Axes>"
      ]
     },
     "metadata": {},
     "output_type": "display_data"
    }
   ],
   "source": [
    "plt.plot(T, y_R[0], label='$x_D$')\n",
    "plt.plot(T, y_R[1], label='$x_B$')\n",
    "plt.legend()"
   ]
  },
  {
   "cell_type": "markdown",
   "metadata": {},
   "source": [
    "### Bump test on reboiler steam, $S(s)$:"
   ]
  },
  {
   "cell_type": "code",
   "execution_count": 413,
   "metadata": {
    "collapsed": true
   },
   "outputs": [],
   "source": [
    "T, y_S = control.step_response(sys,T,input=1)"
   ]
  },
  {
   "cell_type": "code",
   "execution_count": 414,
   "metadata": {},
   "outputs": [
    {
     "data": {
      "text/plain": [
       "<matplotlib.legend.Legend at 0x1238c0e10>"
      ]
     },
     "execution_count": 414,
     "metadata": {},
     "output_type": "execute_result"
    },
    {
     "data": {
      "image/png": "[encoded data removed]",
      "text/plain": [
       "<Figure size 432x288 with 1 Axes>"
      ]
     },
     "metadata": {},
     "output_type": "display_data"
    }
   ],
   "source": [
    "plt.plot(T, y_S[0], label='$x_D$')\n",
    "plt.plot(T, y_S[1], label='$x_B$')\n",
    "plt.legend()"
   ]
  },
  {
   "cell_type": "markdown",
   "metadata": {},
   "source": [
    "We can see their relationship more clearly in a 4x4 plot of DVs against MVs:"
   ]
  },
  {
   "cell_type": "code",
   "execution_count": 415,
   "metadata": {},
   "outputs": [
    {
     "data": {
      "image/png": "[encoded data removed]",
      "text/plain": [
       "<Figure size 648x432 with 4 Axes>"
      ]
     },
     "metadata": {},
     "output_type": "display_data"
    }
   ],
   "source": [
    "f, ((ax1, ax2), (ax3, ax4)) = plt.subplots(2, 2, sharex='col', sharey='row', figsize=(9,6))\n",
    "ax1.plot(T, y_R[0], label='$x_D$', color='r')\n",
    "ax2.plot(T, y_R[1], label='$x_B$', color='r')\n",
    "ax3.plot(T, y_S[0], label='$x_D$', color='r')\n",
    "ax4.plot(T, y_S[1], label='$x_B$', color='r')\n",
    "\n",
    "ax1.set_title('Top Composition: $x_D$')\n",
    "ax2.set_title('Bottom Composition: $x_B$')\n",
    "ax1.set_ylabel('Reflux: $R(s)$')\n",
    "ax3.set_ylabel('Reboiler Steam: $S(s)$')\n",
    "\n",
    "ax1.grid(); ax2.grid(); ax3.grid(); ax4.grid(); \n",
    "plt.tight_layout()"
   ]
  },
  {
   "cell_type": "markdown",
   "metadata": {},
   "source": [
    "## Takeaways:\n",
    "\n",
    "By the end of this notebook, you should be able to:\n",
    "\n",
    "1. Obtain the step response of a MIMO system using `control.step_response`.\n",
    "2. Plot the step response of a MIMO system to study the relationship between inputs and outputs"
   ]
  }
 ],
 "metadata": {
  "kernelspec": {
   "display_name": "Python 3",
   "language": "python",
   "name": "python3"
  },
  "language_info": {
   "codemirror_mode": {
    "name": "ipython",
    "version": 3
   },
   "file_extension": ".py",
   "mimetype": "text/x-python",
   "name": "python",
   "nbconvert_exporter": "python",
   "pygments_lexer": "ipython3",
   "version": "3.6.1"
  }
 },
 "nbformat": 4,
 "nbformat_minor": 2
}
