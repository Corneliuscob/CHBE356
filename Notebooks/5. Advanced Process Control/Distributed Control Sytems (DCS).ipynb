{
 "cells": [
  {
   "cell_type": "markdown",
   "metadata": {},
   "source": [
    "# Distributed Control Systems\n",
    "\n",
    "This introductory process control course focused on the design and analysis of SISO (Single Input Single Output) systems. In a real plant, you'll probably be dealing with hundreds, if not thousands, of I/O (Input/Output) points and field devices within very large MIMO (Multi Input Multi Output) systems.\n",
    "\n",
    "The majority of your chemical engineering lab experiments involves some kind of equipment that you control with a computer. The computer handles all the input/output signals, data collection and control calculations. We call this a **centralised controller**, since all control capabilities are tied to that one single computer. If the computer fails, you lose control of the equipment.\n",
    "\n",
    "** insert diagram **\n",
    "\n",
    "Consider a manufacturing facility with thousands of control loops and field devices (sensors, trasmitters, analyzers etc.). With a distributed control system (DCS), each control loop would be tied to an autonomous controller (kind of like a mini computer). These controllers are **distributed** throughout the entire system and plant. If a controller fails, it will only affect one control loop or just one section of the process, and not the entire plant. These individual controllers are tied back to a central supervisory system.\n",
    "\n",
    "** insert diagram **"
   ]
  },
  {
   "cell_type": "markdown",
   "metadata": {},
   "source": [
    "## DCS vendors\n",
    "\n",
    "** TODO finish notes **\n",
    "\n",
    "There are several big players in the DCS market, notably:\n",
    "\n",
    "1. [Honeywell Experion](https://www.honeywellprocess.com/en-US/explore/services/distributed-control-systems/pages/default.aspx)\n",
    "2. [ABB 800xA](https://new.abb.com/control-systems/system-800xa)\n",
    "3. [Emerson DeltaV](https://www.emerson.com/en-us/automation/control-and-safety-systems/distributed-control-systems-dcs)\n",
    "4. [Yokogawa Centum](https://www.yokogawa.com/ca/solutions/products-platforms/control-system/distributed-control-systems-dcs/)"
   ]
  },
  {
   "cell_type": "markdown",
   "metadata": {},
   "source": [
    "## Industrial signalling standards\n",
    "\n",
    "** TODO finish notes **\n",
    "\n",
    "There are several communication standards for \n",
    "\n",
    "- 4-20mA current loop\n",
    "- Modbus\n",
    "- Foundation Fieldbus\n",
    "- Profibus\n",
    "- HART\n",
    "- Industrial Ethernet (IE)"
   ]
  },
  {
   "cell_type": "markdown",
   "metadata": {},
   "source": [
    "## OPC\n",
    "\n",
    "** TODO finish notes **\n",
    "\n",
    "OPC stands for Oh, Please Connect.\n",
    "\n",
    "OPC software in the market:\n",
    "\n",
    "1. [Honeywell Matrikon OPC](https://www.matrikonopc.com)\n",
    "2. [ABB Harmony OPC](https://library.e.abb.com/public/4467136aa7a91861c1256e53007d04b1/WBPEEUS350258A2_-_en_Harmony_OPC_Server_Version_2.2_Overview.pdf)\n",
    "3. [RoviSys OPC](https://library.e.abb.com/public/4467136aa7a91861c1256e53007d04b1/WBPEEUS350258A2_-_en_Harmony_OPC_Server_Version_2.2_Overview.pdf)"
   ]
  },
  {
   "cell_type": "markdown",
   "metadata": {},
   "source": [
    "## Historians"
   ]
  }
 ],
 "metadata": {
  "kernelspec": {
   "display_name": "Python 3",
   "language": "python",
   "name": "python3"
  },
  "language_info": {
   "codemirror_mode": {
    "name": "ipython",
    "version": 3
   },
   "file_extension": ".py",
   "mimetype": "text/x-python",
   "name": "python",
   "nbconvert_exporter": "python",
   "pygments_lexer": "ipython3",
   "version": "3.6.1"
  }
 },
 "nbformat": 4,
 "nbformat_minor": 2
}
