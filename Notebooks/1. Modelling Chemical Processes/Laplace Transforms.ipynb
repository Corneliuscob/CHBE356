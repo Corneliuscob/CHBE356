{
 "cells": [
  {
   "cell_type": "markdown",
   "metadata": {},
   "source": [
    "# Laplace Transforms\n",
    "\n",
    "*TODO: finish visualizations and content*\n",
    "\n",
    "The Laplace transform is a mathematical operation that maps a function in the time domain $ f(t) $ to the complex frequency domain $ F(s) $.\n",
    "\n",
    "In process control, the Laplace transform is commonly used as a tool to transform ordinary differential equations into algebraic problems, where solutions can be easily found.\n",
    "\n",
    "The Laplace transform is defined as:\n",
    "\n",
    "$$ F(s) = \\mathcal{L}\\{f(t)\\} = \\int^{\\infty}_{0}{e^{-st}f(t) dt}$$\n",
    "\n",
    "where $s$ is a complex variable with a real and imaginary part, $s = \\sigma + i\\omega$, as opposed to $t$, which is a real variable."
   ]
  },
  {
   "cell_type": "markdown",
   "metadata": {},
   "source": [
    "## Intuition behind the Laplace transform\n",
    "\n",
    "The Fourier transform (recall from your MATH 256, Differential Equations class) is a tool that breaks down a function into sines and cosines. Recall further that the Fourier transform of a function $f(t)$ to the frequency domain $\\omega$ is defined as follows:\n",
    "\n",
    "$$ F(\\omega) = \\int^{\\infty}_{-\\infty}{e^{-j\\omega t}f(t)dt}$$"
   ]
  },
  {
   "cell_type": "code",
   "execution_count": null,
   "metadata": {
    "collapsed": true
   },
   "outputs": [],
   "source": []
  },
  {
   "cell_type": "markdown",
   "metadata": {
    "collapsed": true
   },
   "source": [
    "Further Reading:\n",
    "\n",
    "- Brian Douglas video: https://www.youtube.com/watch?v=ZGPtPkTft8g\n",
    "- DSP Guide on The Laplace Transform: http://www.dspguide.com/CH32.PDF\n",
    "- A filter primer: https://www.maximintegrated.com/en/app-notes/index.mvp/id/733"
   ]
  }
 ],
 "metadata": {
  "kernelspec": {
   "display_name": "Python 3",
   "language": "python",
   "name": "python3"
  },
  "language_info": {
   "codemirror_mode": {
    "name": "ipython",
    "version": 3
   },
   "file_extension": ".py",
   "mimetype": "text/x-python",
   "name": "python",
   "nbconvert_exporter": "python",
   "pygments_lexer": "ipython3",
   "version": "3.6.1"
  }
 },
 "nbformat": 4,
 "nbformat_minor": 2
}
