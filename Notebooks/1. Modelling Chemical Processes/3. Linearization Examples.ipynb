{
 "cells": [
  {
   "cell_type": "markdown",
   "metadata": {},
   "source": [
    "# Linearization Examples\n",
    "\n",
    "This notebook provides examples for linearizing non-linear process models.\n",
    "\n",
    "By the end of this notebook, you should be able to:\n",
    "\n",
    "- Linearize a function by hand using the Taylor expansion\n",
    "- Take a Taylor expansion using the SymPy library"
   ]
  },
  {
   "cell_type": "markdown",
   "metadata": {},
   "source": [
    "# 1. Introduction\n",
    "\n",
    "Given any non-linear function of 2 variables, such as: \n",
    "\n",
    "$$\\frac{df}{dt} = f(x,y)$$\n",
    "\n",
    "the linearized function, around a specific steady state point $\\text{ss} = (\\bar x, \\bar y)$, can be approximated with the Taylor series expansion and truncating the higher order terms, giving us:\n",
    "\n",
    "$$\\frac{df}{dt} \\approx f(\\bar x,\\bar y) + \\frac{\\partial f}{\\partial x}\\Bigr\\rvert_{\\text{ss}}(x - \\bar x) + \\frac{\\partial f}{\\partial y}\\Bigr\\rvert_{\\text{ss}}(y - \\bar y) $$\n",
    "\n",
    "We know that at steady state, the time derivative is zero:\n",
    "\n",
    "$$0 = \\bar f(\\bar x,\\bar y) + \\frac{\\partial f}{\\partial x}\\Bigr\\rvert_{\\text{ss}}(x_{\\text{ss}} - \\bar x) + \\frac{\\partial f}{\\partial y}\\Bigr\\rvert_{\\text{ss}}(y_{\\text{ss}} - \\bar y) $$\n",
    "\n",
    "Using our definition of deviation variables, $f'(t) = f(t) - \\bar f$, we get:\n",
    "\n",
    "$$\\frac{df'}{dt} = \\frac{\\partial f}{\\partial x}\\Bigr\\rvert_{\\text{ss}}(x - \\bar x) + \\frac{\\partial f}{\\partial y}\\Bigr\\rvert_{\\text{ss}}(y - \\bar y)$$\n",
    "\n",
    "Note that the partial derivatives are taken at the steady state point, $\\text{ss} = \\bar f(\\bar x, \\bar y)$.\n",
    "\n",
    "## Additional Variables\n",
    "Following a similar derivation. The equation can be generalized further for any number of variables, for example:\n",
    "\n",
    "$$\\frac{df'}{dt} = \\frac{\\partial f}{\\partial x}\\Bigr\\rvert_{\\text{ss}}x' + \\frac{\\partial f}{\\partial y}\\Bigr\\rvert_{\\text{ss}}y' + \\frac{\\partial f}{\\partial z}\\Bigr\\rvert_{\\text{ss}}z' $$\n",
    "\n",
    "\n"
   ]
  },
  {
   "cell_type": "markdown",
   "metadata": {},
   "source": [
    "# 2. Examples\n",
    "\n",
    "## Case 1: One linear term, one non-linear term\n",
    "This equation relates the change in mass concentration of cells in a bioreactor over time, $X$ to its growth rate, $\\mu$ and dilution rate $D$:\n",
    "\n",
    "$$\\frac{dX}{dt} = \\mu X - DX$$\n",
    " \n",
    "Since $\\frac{dX}{dt} =  f(X,D)$, only the second term, $DX$, is non-linear.\n",
    "\n",
    "Applying the equation in Section 1, we get the partial derivatives:\n",
    "\n",
    "$$\\frac{\\partial f}{\\partial X}\\Bigr\\rvert_{\\text{ss}} = \\mu - \\bar D$$\n",
    "\n",
    "$$\\frac{\\partial f}{\\partial D}\\Bigr\\rvert_{\\text{ss}} = - \\bar X$$\n",
    "\n",
    "And plugging it back into the equation,\n",
    "\n",
    "$$\\frac{dX'}{dt} =  (\\mu + \\bar D)\\cdot(X-\\bar X) - \\bar X\\cdot(D-\\bar D)$$\n",
    "\n",
    "The linearized equation is:\n",
    "$$\\frac{dX'}{dt} =  (\\mu - \\bar D)X' - \\bar X D'$$\n",
    "\n",
    "### Exam Shortcut\n",
    "To save time, we can just apply the Taylor expansion on the non-linear term and linearize the first term in the usual manner:\n",
    "\n",
    "$$\\frac{dX'}{dt} =  \\mu X' - G'$$\n",
    "\n",
    "Where $$G = DX$$ and $$G' = \\bar D X' + \\bar X D'$$\n",
    "\n",
    "Notice that we get the same results:\n",
    "\n",
    "$$\\frac{dX'}{dt} =  \\mu X' - (\\bar D X' + \\bar X D') = (\\mu - \\bar D) X' - \\bar X D'$$\n",
    "\n",
    "This shortcut will be useful when you have a complicated equation with many linear terms and just a few non-linear terms.\n",
    "\n"
   ]
  },
  {
   "cell_type": "markdown",
   "metadata": {
    "collapsed": true
   },
   "source": [
    "# Taking the Taylor Expansion with SymPy\n",
    "SymPy is a library for doing symbolic maths. We can use SymPy to take the first-order Taylor expansion of a non-linear function. Let's try it with the previous function:\n",
    "\n",
    "$$ f(X,D) = \\mu X - DX $$"
   ]
  },
  {
   "cell_type": "code",
   "execution_count": 17,
   "metadata": {
    "collapsed": true,
    "scrolled": true
   },
   "outputs": [],
   "source": [
    "import sympy as sp\n",
    "\n",
    "# Define our symbols\n",
    "X, D = sp.symbols('X D')\n",
    "\n",
    "# SymPy has pre-defined Greek letters\n",
    "from sympy.abc import mu\n",
    "\n",
    "# Define our function, f(X,D)\n",
    "f = mu*X - D*X"
   ]
  },
  {
   "cell_type": "code",
   "execution_count": 18,
   "metadata": {},
   "outputs": [
    {
     "name": "stdout",
     "output_type": "stream",
     "text": [
      "-D + mu\n",
      "-X\n"
     ]
    }
   ],
   "source": [
    "# Take the partial derivatives with respect to X\n",
    "X_partial = sp.diff(f, X)\n",
    "print(X_partial)\n",
    "\n",
    "# Take the partial derivative with respect to D\n",
    "D_partial = sp.diff(f, D)\n",
    "print(D_partial)"
   ]
  },
  {
   "cell_type": "code",
   "execution_count": 20,
   "metadata": {
    "scrolled": true
   },
   "outputs": [
    {
     "data": {
      "text/plain": [
       "-D'*X + X'*(-D + mu)"
      ]
     },
     "execution_count": 20,
     "metadata": {},
     "output_type": "execute_result"
    }
   ],
   "source": [
    "# The final function is:\n",
    "X_prime, D_prime = sp.symbols(\"X' D'\")\n",
    "f_prime = X_partial*X_prime + D_partial*D_prime\n",
    "f_prime"
   ]
  },
  {
   "cell_type": "markdown",
   "metadata": {},
   "source": [
    "### Credits & Resources:\n",
    "- Contents in this notebook are mostly based on notes from CHBE 356, Class of 2015W2, Prof. Bhushan Gopaluni\n",
    "- Further reading: http://inside.mines.edu/~jjechura/ProcessDynamics/03_SpecialTechniques.pdf"
   ]
  }
 ],
 "metadata": {
  "kernelspec": {
   "display_name": "Python 3",
   "language": "python",
   "name": "python3"
  },
  "language_info": {
   "codemirror_mode": {
    "name": "ipython",
    "version": 3
   },
   "file_extension": ".py",
   "mimetype": "text/x-python",
   "name": "python",
   "nbconvert_exporter": "python",
   "pygments_lexer": "ipython3",
   "version": "3.6.1"
  }
 },
 "nbformat": 4,
 "nbformat_minor": 2
}
