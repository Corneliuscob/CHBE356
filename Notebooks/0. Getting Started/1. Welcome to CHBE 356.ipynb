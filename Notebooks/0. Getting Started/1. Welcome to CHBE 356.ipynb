{
 "cells": [
  {
   "cell_type": "markdown",
   "metadata": {},
   "source": [
    "# Introduction\n",
    "\n",
    "In this course, we will use Jupyter notebooks to illustrate how to use modern, open-source software tools for chemical engineering applications.\n",
    "\n",
    "We will be using Python, a free, open-source and powerful computing environment. It is one of the most popular languages in the data science community alongside R, which you will learn in STAT 241.\n",
    "\n",
    "## Why Python?\n",
    "\n",
    "In CHBE, we've recently experimented with teaching chemical engineering courses with Python. Some students asked:\n",
    "\n",
    "1. I'm in chemical engineering, why do I need to code?\n",
    "2. We've already learned MATLAB in second year, why are we learning Python now?\n",
    "\n",
    "Coding is one of the most useful, transfereable skills that you can learn in the 21st century. According to [statistics published](https://www.bls.gov/ooh/architecture-and-engineering/chemical-engineers.htm) by the U.S. Department of Labor, the chemical engineering industry is projected to grow 2% between 2014-2024. Over the same period, the software industry is projected to grow by 17%.\n",
    "\n",
    "Software, automation and data science will serve an increasingly important role in the field of chemical engineering.\n",
    "\n",
    "The goal of using Python in this course is to provide you with a gentle introduction to the language of modern data science and software development. This will equip you with the necessary foundations to further explore this field if you are interested in learning more.\n",
    "\n",
    "### Research\n",
    "Closer to home, data science is also changing how we approach chemical engineering problems. Students in the [DAIS Lab](http://dais.chbe.ubc.ca) in CHBE are investigating applications of machine learning techniques to:\n",
    "\n",
    "1. predict process faults such as heat exchanger fouling, and\n",
    "2. design smarter controllers for industrial processes\n",
    "\n",
    "### Comments from Faculty\n",
    "\n",
    "Here's what other engineering faculty members have to say on this topic:\n",
    "\n",
    "1. [Dr. Lorena Barba, George Washington University](http://lorenabarba.com/blog/why-i-push-for-python/)\n",
    "2. [Dr. Garth Wells, University of Cambridge](http://www.eng.cam.ac.uk/news/department-engineering-increases-student-learning-open-source-azure-service)"
   ]
  },
  {
   "cell_type": "markdown",
   "metadata": {},
   "source": [
    "# Getting Started with Syzygy\n",
    "\n",
    "Jupyter notebooks are documents that combines Python code, text, equations and images. These notebooks are meant to be accessed through a browser. They are easily shareable and downloadable into other file types (e.g. PDF and HTML) for your convenience.\n",
    "\n",
    "To interact with and edit these notebooks, you will need to open them using a Jupyter server. In this course, we will use a Jupyter server hosted by UBC at https://ubc.syzygy.ca/\n",
    "\n",
    "1. Go to the Syzygy server in the link above\n",
    "2. Sign in to Syzygy with your CWL login\n",
    "3. Click \"Start My Server\" and the Jupyter interface will open\n",
    "4. Go to File > New > Python 3 and create a new file\n",
    "5. Enter this into the box !git clone https://github.com/OpenChemE/CHBE356 and press \"Shift+Enter\"\n",
    "6. Go to File > Open and you should see the course contents downloaded into a folder called CHBE356\n",
    "\n",
    "** TODO: insert animated gifs, complete notebook intro **"
   ]
  },
  {
   "cell_type": "code",
   "execution_count": null,
   "metadata": {
    "collapsed": true
   },
   "outputs": [],
   "source": []
  },
  {
   "cell_type": "markdown",
   "metadata": {},
   "source": [
    "## References\n",
    "\n",
    "This notebook uses material from the following open educational resources:\n",
    "\n",
    "1. https://github.com/rwest/CHME4510/\n",
    "2. https://github.com/jckantor/CBE20255\n",
    "3. https://github.com/patrickwalls/arc-summer-school/"
   ]
  }
 ],
 "metadata": {
  "kernelspec": {
   "display_name": "Python 3",
   "language": "python",
   "name": "python3"
  },
  "language_info": {
   "codemirror_mode": {
    "name": "ipython",
    "version": 3
   },
   "file_extension": ".py",
   "mimetype": "text/x-python",
   "name": "python",
   "nbconvert_exporter": "python",
   "pygments_lexer": "ipython3",
   "version": "3.6.1"
  }
 },
 "nbformat": 4,
 "nbformat_minor": 2
}
