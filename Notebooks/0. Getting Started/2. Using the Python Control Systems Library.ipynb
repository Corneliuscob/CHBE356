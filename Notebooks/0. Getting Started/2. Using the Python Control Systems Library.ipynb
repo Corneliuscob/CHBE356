{
 "cells": [
  {
   "cell_type": "markdown",
   "metadata": {},
   "source": [
    "# Python Control Systems Library \n",
    "This notebook provides a quick introduction to the control library and its features.\n",
    "\n",
    "By the end of this notebook, you should be able to:\n",
    "\n",
    "- Install the Python Control Systems Library on your Syzygy cloud account\n",
    "- Understand how to define and work with transfer functions in the `control` library\n",
    "\n",
    "## Installation\n",
    "\n",
    "Run the commands (shift+enter) in the next cell to install the [Python Control Systems Library](https://github.com/python-control/python-control)."
   ]
  },
  {
   "cell_type": "code",
   "execution_count": null,
   "metadata": {
    "collapsed": true
   },
   "outputs": [],
   "source": [
    "! pip install git+https://github.com/python-control/python-control@601b58152080d89575cc677474ec7714e1a34ee2"
   ]
  },
  {
   "cell_type": "markdown",
   "metadata": {},
   "source": [
    "**Important: Restart the kernel (top of the screen: Kernel > Restart)** then run the next cell.\n",
    "\n",
    "If the installation is successful, you should see no errors when you run the next cell."
   ]
  },
  {
   "cell_type": "code",
   "execution_count": 2,
   "metadata": {
    "collapsed": true
   },
   "outputs": [],
   "source": [
    "import control"
   ]
  },
  {
   "cell_type": "markdown",
   "metadata": {},
   "source": [
    "We'll start by simulating this simple open loop plant model shown in the SVG diagram below. TikZ code for the diagram [available](https://www.overleaf.com/read/kdsvmqqnhprz) on Overleaf."
   ]
  },
  {
   "cell_type": "code",
   "execution_count": 3,
   "metadata": {},
   "outputs": [
    {
     "data": {
      "image/svg+xml": [
       "<svg height=\"32pt\" version=\"1.1\" viewBox=\"0 0 115 32\" width=\"115pt\" xmlns=\"http://www.w3.org/2000/svg\" xmlns:xlink=\"http://www.w3.org/1999/xlink\">\n",
       "<defs>\n",
       "<g>\n",
       "<symbol id=\"glyph0-0\" overflow=\"visible\">\n",
       "<path d=\"M 7.578125 -6.921875 C 7.578125 -6.953125 7.5625 -7.03125 7.46875 -7.03125 C 7.4375 -7.03125 7.421875 -7.015625 7.3125 -6.90625 L 6.625 -6.140625 C 6.53125 -6.28125 6.078125 -7.03125 4.96875 -7.03125 C 2.734375 -7.03125 0.5 -4.828125 0.5 -2.515625 C 0.5 -0.921875 1.609375 0.21875 3.21875 0.21875 C 3.65625 0.21875 4.109375 0.125 4.46875 -0.015625 C 4.96875 -0.21875 5.15625 -0.421875 5.328125 -0.625 C 5.421875 -0.375 5.6875 -0.015625 5.78125 -0.015625 C 5.828125 -0.015625 5.859375 -0.046875 5.859375 -0.046875 C 5.875 -0.0625 5.96875 -0.453125 6.015625 -0.65625 L 6.203125 -1.421875 C 6.25 -1.59375 6.296875 -1.765625 6.34375 -1.9375 C 6.453125 -2.375 6.453125 -2.40625 7.03125 -2.40625 C 7.078125 -2.40625 7.1875 -2.421875 7.1875 -2.609375 C 7.1875 -2.6875 7.140625 -2.71875 7.0625 -2.71875 C 6.828125 -2.71875 6.234375 -2.6875 6.015625 -2.6875 C 5.703125 -2.6875 4.921875 -2.71875 4.609375 -2.71875 C 4.53125 -2.71875 4.40625 -2.71875 4.40625 -2.515625 C 4.40625 -2.40625 4.484375 -2.40625 4.703125 -2.40625 C 4.71875 -2.40625 5 -2.40625 5.234375 -2.390625 C 5.5 -2.359375 5.546875 -2.328125 5.546875 -2.203125 C 5.546875 -2.109375 5.4375 -1.671875 5.328125 -1.296875 C 5.046875 -0.203125 3.765625 -0.09375 3.40625 -0.09375 C 2.453125 -0.09375 1.40625 -0.65625 1.40625 -2.1875 C 1.40625 -2.5 1.5 -4.140625 2.546875 -5.4375 C 3.09375 -6.109375 4.0625 -6.71875 5.046875 -6.71875 C 6.0625 -6.71875 6.65625 -5.953125 6.65625 -4.796875 C 6.65625 -4.390625 6.625 -4.390625 6.625 -4.28125 C 6.625 -4.1875 6.734375 -4.1875 6.765625 -4.1875 C 6.890625 -4.1875 6.890625 -4.203125 6.953125 -4.390625 Z M 7.578125 -6.921875 \" style=\"stroke:none;\"/>\n",
       "</symbol>\n",
       "<symbol id=\"glyph0-1\" overflow=\"visible\">\n",
       "<path d=\"M 3.890625 -3.734375 C 3.625 -3.71875 3.421875 -3.5 3.421875 -3.28125 C 3.421875 -3.140625 3.515625 -2.984375 3.734375 -2.984375 C 3.953125 -2.984375 4.1875 -3.15625 4.1875 -3.546875 C 4.1875 -4 3.765625 -4.40625 3 -4.40625 C 1.6875 -4.40625 1.3125 -3.390625 1.3125 -2.953125 C 1.3125 -2.171875 2.046875 -2.03125 2.34375 -1.96875 C 2.859375 -1.859375 3.375 -1.75 3.375 -1.203125 C 3.375 -0.953125 3.15625 -0.109375 1.953125 -0.109375 C 1.8125 -0.109375 1.046875 -0.109375 0.8125 -0.640625 C 1.203125 -0.59375 1.453125 -0.890625 1.453125 -1.171875 C 1.453125 -1.390625 1.28125 -1.515625 1.078125 -1.515625 C 0.8125 -1.515625 0.515625 -1.3125 0.515625 -0.859375 C 0.515625 -0.296875 1.09375 0.109375 1.9375 0.109375 C 3.5625 0.109375 3.953125 -1.09375 3.953125 -1.546875 C 3.953125 -1.90625 3.765625 -2.15625 3.640625 -2.265625 C 3.375 -2.546875 3.078125 -2.609375 2.640625 -2.6875 C 2.28125 -2.765625 1.890625 -2.84375 1.890625 -3.296875 C 1.890625 -3.578125 2.125 -4.1875 3 -4.1875 C 3.25 -4.1875 3.75 -4.109375 3.890625 -3.734375 Z M 3.890625 -3.734375 \" style=\"stroke:none;\"/>\n",
       "</symbol>\n",
       "<symbol id=\"glyph0-2\" overflow=\"visible\">\n",
       "<path d=\"M 6.328125 -5.765625 C 6.4375 -6.171875 6.609375 -6.46875 7.40625 -6.5 C 7.453125 -6.5 7.578125 -6.515625 7.578125 -6.703125 C 7.578125 -6.703125 7.578125 -6.8125 7.453125 -6.8125 C 7.125 -6.8125 6.765625 -6.78125 6.4375 -6.78125 C 6.09375 -6.78125 5.71875 -6.8125 5.390625 -6.8125 C 5.328125 -6.8125 5.21875 -6.8125 5.21875 -6.609375 C 5.21875 -6.5 5.3125 -6.5 5.390625 -6.5 C 5.96875 -6.484375 6.078125 -6.28125 6.078125 -6.0625 C 6.078125 -6.03125 6.046875 -5.875 6.046875 -5.859375 L 5.140625 -2.296875 C 4.8125 -0.953125 3.65625 -0.09375 2.65625 -0.09375 C 1.984375 -0.09375 1.453125 -0.53125 1.453125 -1.390625 C 1.453125 -1.40625 1.453125 -1.71875 1.5625 -2.15625 L 2.515625 -6.046875 C 2.609375 -6.40625 2.625 -6.5 3.359375 -6.5 C 3.625 -6.5 3.703125 -6.5 3.703125 -6.703125 C 3.703125 -6.8125 3.59375 -6.8125 3.5625 -6.8125 C 3.28125 -6.8125 2.5625 -6.78125 2.28125 -6.78125 C 2 -6.78125 1.28125 -6.8125 1 -6.8125 C 0.921875 -6.8125 0.8125 -6.8125 0.8125 -6.609375 C 0.8125 -6.5 0.890625 -6.5 1.09375 -6.5 C 1.109375 -6.5 1.296875 -6.5 1.46875 -6.484375 C 1.640625 -6.453125 1.734375 -6.453125 1.734375 -6.3125 C 1.734375 -6.265625 1.625 -5.84375 1.5625 -5.609375 L 1.34375 -4.734375 C 1.25 -4.34375 0.78125 -2.46875 0.734375 -2.265625 C 0.671875 -2 0.671875 -1.84375 0.671875 -1.6875 C 0.671875 -0.484375 1.578125 0.21875 2.625 0.21875 C 3.875 0.21875 5.109375 -0.90625 5.4375 -2.21875 Z M 6.328125 -5.765625 \" style=\"stroke:none;\"/>\n",
       "</symbol>\n",
       "<symbol id=\"glyph0-3\" overflow=\"visible\">\n",
       "<path d=\"M 5.953125 -5.671875 L 6.09375 -5.8125 C 6.390625 -6.109375 6.71875 -6.453125 7.390625 -6.5 C 7.5 -6.515625 7.59375 -6.515625 7.59375 -6.6875 C 7.59375 -6.765625 7.546875 -6.8125 7.46875 -6.8125 C 7.203125 -6.8125 6.921875 -6.78125 6.65625 -6.78125 C 6.3125 -6.78125 5.96875 -6.8125 5.65625 -6.8125 C 5.59375 -6.8125 5.46875 -6.8125 5.46875 -6.625 C 5.46875 -6.515625 5.5625 -6.5 5.609375 -6.5 C 5.6875 -6.5 5.96875 -6.484375 5.96875 -6.265625 C 5.96875 -6.09375 5.734375 -5.84375 5.703125 -5.796875 L 3.390625 -3.125 L 2.296875 -6.09375 C 2.234375 -6.234375 2.234375 -6.25 2.234375 -6.265625 C 2.234375 -6.5 2.71875 -6.5 2.828125 -6.5 C 2.953125 -6.5 3.0625 -6.5 3.0625 -6.703125 C 3.0625 -6.8125 2.9375 -6.8125 2.90625 -6.8125 C 2.625 -6.8125 1.9375 -6.78125 1.65625 -6.78125 C 1.40625 -6.78125 0.78125 -6.8125 0.53125 -6.8125 C 0.484375 -6.8125 0.34375 -6.8125 0.34375 -6.609375 C 0.34375 -6.5 0.453125 -6.5 0.578125 -6.5 C 1.171875 -6.5 1.21875 -6.40625 1.3125 -6.15625 L 2.53125 -2.875 C 2.546875 -2.84375 2.578125 -2.734375 2.578125 -2.71875 C 2.578125 -2.6875 2.171875 -1.078125 2.125 -0.890625 C 2 -0.34375 1.984375 -0.3125 1.1875 -0.3125 C 1 -0.3125 0.921875 -0.3125 0.921875 -0.109375 C 0.921875 0 1.03125 0 1.0625 0 C 1.328125 0 2.03125 -0.03125 2.3125 -0.03125 C 2.59375 -0.03125 3.3125 0 3.59375 0 C 3.65625 0 3.78125 0 3.78125 -0.203125 C 3.78125 -0.3125 3.6875 -0.3125 3.5 -0.3125 C 3.484375 -0.3125 3.296875 -0.3125 3.125 -0.328125 C 2.90625 -0.34375 2.84375 -0.375 2.84375 -0.484375 C 2.84375 -0.5625 2.9375 -0.90625 2.984375 -1.109375 L 3.34375 -2.515625 C 3.390625 -2.71875 3.40625 -2.734375 3.484375 -2.828125 Z M 5.953125 -5.671875 \" style=\"stroke:none;\"/>\n",
       "</symbol>\n",
       "<symbol id=\"glyph1-0\" overflow=\"visible\">\n",
       "<path d=\"M 0.515625 0.84375 C 0.46875 1.046875 0.453125 1.09375 0.1875 1.09375 C 0.09375 1.09375 0 1.09375 0 1.25 C 0 1.328125 0.0625 1.359375 0.09375 1.359375 C 0.265625 1.359375 0.5 1.328125 0.6875 1.328125 C 0.921875 1.328125 1.1875 1.359375 1.421875 1.359375 C 1.484375 1.359375 1.5625 1.328125 1.5625 1.203125 C 1.5625 1.09375 1.46875 1.09375 1.375 1.09375 C 1.21875 1.09375 1.03125 1.09375 1.03125 1.015625 C 1.03125 0.984375 1.09375 0.796875 1.109375 0.703125 C 1.203125 0.328125 1.296875 -0.046875 1.375 -0.34375 C 1.453125 -0.203125 1.671875 0.0625 2.09375 0.0625 C 2.9375 0.0625 3.875 -0.875 3.875 -1.90625 C 3.875 -2.71875 3.3125 -3.078125 2.84375 -3.078125 C 2.40625 -3.078125 2.03125 -2.78125 1.84375 -2.578125 C 1.734375 -2.984375 1.34375 -3.078125 1.125 -3.078125 C 0.859375 -3.078125 0.6875 -2.890625 0.578125 -2.703125 C 0.4375 -2.46875 0.328125 -2.046875 0.328125 -2 C 0.328125 -1.921875 0.421875 -1.921875 0.453125 -1.921875 C 0.546875 -1.921875 0.546875 -1.9375 0.59375 -2.125 C 0.703125 -2.53125 0.84375 -2.875 1.109375 -2.875 C 1.296875 -2.875 1.34375 -2.71875 1.34375 -2.53125 C 1.34375 -2.453125 1.328125 -2.375 1.3125 -2.328125 Z M 1.84375 -2.234375 C 2.25 -2.78125 2.59375 -2.875 2.8125 -2.875 C 3.09375 -2.875 3.328125 -2.671875 3.328125 -2.203125 C 3.328125 -1.921875 3.171875 -1.203125 2.96875 -0.796875 C 2.78125 -0.453125 2.453125 -0.125 2.09375 -0.125 C 1.59375 -0.125 1.46875 -0.65625 1.46875 -0.734375 C 1.46875 -0.765625 1.484375 -0.8125 1.484375 -0.84375 Z M 1.84375 -2.234375 \" style=\"stroke:none;\"/>\n",
       "</symbol>\n",
       "<symbol id=\"glyph2-0\" overflow=\"visible\">\n",
       "<path d=\"M 3.296875 2.390625 C 3.296875 2.359375 3.296875 2.34375 3.125 2.171875 C 1.890625 0.921875 1.5625 -0.96875 1.5625 -2.5 C 1.5625 -4.234375 1.9375 -5.96875 3.171875 -7.203125 C 3.296875 -7.328125 3.296875 -7.34375 3.296875 -7.375 C 3.296875 -7.453125 3.265625 -7.484375 3.203125 -7.484375 C 3.09375 -7.484375 2.203125 -6.796875 1.609375 -5.53125 C 1.109375 -4.4375 0.984375 -3.328125 0.984375 -2.5 C 0.984375 -1.71875 1.09375 -0.515625 1.640625 0.625 C 2.25 1.84375 3.09375 2.5 3.203125 2.5 C 3.265625 2.5 3.296875 2.46875 3.296875 2.390625 Z M 3.296875 2.390625 \" style=\"stroke:none;\"/>\n",
       "</symbol>\n",
       "<symbol id=\"glyph2-1\" overflow=\"visible\">\n",
       "<path d=\"M 2.875 -2.5 C 2.875 -3.265625 2.765625 -4.46875 2.21875 -5.609375 C 1.625 -6.828125 0.765625 -7.484375 0.671875 -7.484375 C 0.609375 -7.484375 0.5625 -7.4375 0.5625 -7.375 C 0.5625 -7.34375 0.5625 -7.328125 0.75 -7.140625 C 1.734375 -6.15625 2.296875 -4.578125 2.296875 -2.5 C 2.296875 -0.78125 1.9375 0.96875 0.703125 2.21875 C 0.5625 2.34375 0.5625 2.359375 0.5625 2.390625 C 0.5625 2.453125 0.609375 2.5 0.671875 2.5 C 0.765625 2.5 1.671875 1.8125 2.25 0.546875 C 2.765625 -0.546875 2.875 -1.65625 2.875 -2.5 Z M 2.875 -2.5 \" style=\"stroke:none;\"/>\n",
       "</symbol>\n",
       "</g>\n",
       "</defs>\n",
       "<g id=\"surface1\">\n",
       "<path d=\"M 277.1875 11.132812 L 874.960938 11.132812 L 874.960938 310.039062 L 277.1875 310.039062 Z M 277.1875 11.132812 \" style=\"fill:none;stroke-width:3.985;stroke-linecap:butt;stroke-linejoin:miter;stroke:rgb(0%,0%,0%);stroke-opacity:1;stroke-miterlimit:10;\" transform=\"matrix(0.1,0,0,-0.1,0,32)\"/>\n",
       "<g style=\"fill:rgb(0%,0%,0%);fill-opacity:1;\">\n",
       "  <use x=\"45.1789\" xlink:href=\"#glyph0-0\" y=\"18.252\"/>\n",
       "</g>\n",
       "<g style=\"fill:rgb(0%,0%,0%);fill-opacity:1;\">\n",
       "  <use x=\"53.00898\" xlink:href=\"#glyph1-0\" y=\"19.74575\"/>\n",
       "</g>\n",
       "<g style=\"fill:rgb(0%,0%,0%);fill-opacity:1;\">\n",
       "  <use x=\"57.61718\" xlink:href=\"#glyph2-0\" y=\"18.252\"/>\n",
       "</g>\n",
       "<g style=\"fill:rgb(0%,0%,0%);fill-opacity:1;\">\n",
       "  <use x=\"61.4871\" xlink:href=\"#glyph0-1\" y=\"18.252\"/>\n",
       "</g>\n",
       "<g style=\"fill:rgb(0%,0%,0%);fill-opacity:1;\">\n",
       "  <use x=\"66.15819\" xlink:href=\"#glyph2-1\" y=\"18.252\"/>\n",
       "</g>\n",
       "<path d=\"M 9.140625 160.585938 L 251.289062 160.585938 \" style=\"fill:none;stroke-width:3.985;stroke-linecap:butt;stroke-linejoin:miter;stroke:rgb(0%,0%,0%);stroke-opacity:1;stroke-miterlimit:10;\" transform=\"matrix(0.1,0,0,-0.1,0,32)\"/>\n",
       "<path d=\"M 27.519531 15.941406 C 26.523438 15.742188 24.730469 15.34375 23.535156 14.445312 C 24.53125 15.542969 24.53125 16.339844 23.535156 17.433594 C 24.730469 16.539062 26.523438 16.140625 27.519531 15.941406 \" style=\" stroke:none;fill-rule:nonzero;fill:rgb(0%,0%,0%);fill-opacity:1;\"/>\n",
       "<g style=\"fill:rgb(0%,0%,0%);fill-opacity:1;\">\n",
       "  <use x=\"10.2727\" xlink:href=\"#glyph0-2\" y=\"12.4211\"/>\n",
       "</g>\n",
       "<path d=\"M 876.953125 160.585938 L 1119.101562 160.585938 \" style=\"fill:none;stroke-width:3.985;stroke-linecap:butt;stroke-linejoin:miter;stroke:rgb(0%,0%,0%);stroke-opacity:1;stroke-miterlimit:10;\" transform=\"matrix(0.1,0,0,-0.1,0,32)\"/>\n",
       "<path d=\"M 114.300781 15.941406 C 113.304688 15.742188 111.511719 15.34375 110.316406 14.445312 C 111.3125 15.542969 111.3125 16.339844 110.316406 17.433594 C 111.511719 16.539062 113.304688 16.140625 114.300781 15.941406 \" style=\" stroke:none;fill-rule:nonzero;fill:rgb(0%,0%,0%);fill-opacity:1;\"/>\n",
       "<g style=\"fill:rgb(0%,0%,0%);fill-opacity:1;\">\n",
       "  <use x=\"96.9992\" xlink:href=\"#glyph0-3\" y=\"12.4211\"/>\n",
       "</g>\n",
       "</g>\n",
       "</svg>"
      ],
      "text/plain": [
       "<IPython.core.display.SVG object>"
      ]
     },
     "execution_count": 3,
     "metadata": {},
     "output_type": "execute_result"
    }
   ],
   "source": [
    "from IPython.core.display import SVG\n",
    "SVG(filename='../../assets/open_loop.svg')"
   ]
  },
  {
   "cell_type": "markdown",
   "metadata": {},
   "source": [
    "## Define your transfer function\n",
    "We can use `control.tf` to define our transfer function. It takes in 2 input arrays, the coefficients for the numerator and the coefficients for the denominator."
   ]
  },
  {
   "cell_type": "code",
   "execution_count": 4,
   "metadata": {
    "collapsed": true
   },
   "outputs": [],
   "source": [
    "# Transfer function for our plant, with 1 as the numerator and 2s+1 for the denominator\n",
    "A = 2\n",
    "B = 1\n",
    "G_p = control.tf([1], [A, B])"
   ]
  },
  {
   "cell_type": "code",
   "execution_count": 5,
   "metadata": {},
   "outputs": [
    {
     "name": "stdout",
     "output_type": "stream",
     "text": [
      "\n",
      "   1\n",
      "-------\n",
      "2 s + 1\n",
      "\n"
     ]
    }
   ],
   "source": [
    "# Print the transfer function\n",
    "print(G_p)"
   ]
  },
  {
   "cell_type": "markdown",
   "metadata": {},
   "source": [
    "Yay, it works.\n",
    "\n",
    "You can also define the transfer function symbolically using $s$ by doing the following."
   ]
  },
  {
   "cell_type": "code",
   "execution_count": 6,
   "metadata": {
    "collapsed": true
   },
   "outputs": [],
   "source": [
    "s = control.tf([1,0],[1])"
   ]
  },
  {
   "cell_type": "code",
   "execution_count": 7,
   "metadata": {},
   "outputs": [
    {
     "name": "stdout",
     "output_type": "stream",
     "text": [
      "\n",
      "   1\n",
      "-------\n",
      "2 s + 1\n",
      "\n"
     ]
    }
   ],
   "source": [
    "G_p = 1/(2*s+1)\n",
    "print(G_p)"
   ]
  },
  {
   "cell_type": "markdown",
   "metadata": {},
   "source": [
    "Observe that you get the same results. Now let's grab the step response for this transfer function using the control library.\n",
    "\n",
    "## Step Response\n",
    "We will use `control.step_response` to get the step response from our transfer function. It takes in 2 arguments, a time array and the transfer function, and returns the time array and the output."
   ]
  },
  {
   "cell_type": "code",
   "execution_count": 8,
   "metadata": {
    "collapsed": true
   },
   "outputs": [],
   "source": [
    "import numpy as np\n",
    "\n",
    "# Array of 20 sample points, from 0 to 20 seconds\n",
    "T = np.linspace(0,20,20)\n",
    "\n",
    "# Grab the response\n",
    "T, Y = control.step_response(G_p, T=T)"
   ]
  },
  {
   "cell_type": "code",
   "execution_count": 9,
   "metadata": {},
   "outputs": [
    {
     "data": {
      "text/plain": [
       "[<matplotlib.lines.Line2D at 0x113569198>]"
      ]
     },
     "execution_count": 9,
     "metadata": {},
     "output_type": "execute_result"
    },
    {
     "data": {
      "image/png": "[encoded data removed]",
      "text/plain": [
       "<Figure size 432x288 with 1 Axes>"
      ]
     },
     "metadata": {},
     "output_type": "display_data"
    }
   ],
   "source": [
    "# Now let's visualize it\n",
    "% matplotlib inline\n",
    "import matplotlib.pyplot as plt\n",
    "plt.plot(T,Y)"
   ]
  },
  {
   "cell_type": "markdown",
   "metadata": {},
   "source": [
    "## Aside: Plotting tricks\n",
    "Not bad, but we can make the graphics look nicer by adjusting some plot handles:"
   ]
  },
  {
   "cell_type": "code",
   "execution_count": 10,
   "metadata": {},
   "outputs": [
    {
     "data": {
      "text/plain": [
       "<matplotlib.legend.Legend at 0x113674898>"
      ]
     },
     "execution_count": 10,
     "metadata": {},
     "output_type": "execute_result"
    },
    {
     "data": {
      "image/png": "[encoded data removed]",
      "text/plain": [
       "<Figure size 720x360 with 1 Axes>"
      ]
     },
     "metadata": {},
     "output_type": "display_data"
    }
   ],
   "source": [
    "# Add legend and labels\n",
    "fig = plt.figure(figsize=(10,5))\n",
    "plt.plot(T,Y, '-kx', label='$Y(s)$')\n",
    "plt.xlabel('Time (sec)')\n",
    "plt.ylabel('Y(s)')\n",
    "plt.legend()"
   ]
  },
  {
   "cell_type": "markdown",
   "metadata": {},
   "source": [
    "We can use the Seaborn library for some nice defaults, since it's not THAT easy to get a good-looking plot."
   ]
  },
  {
   "cell_type": "code",
   "execution_count": 11,
   "metadata": {
    "collapsed": true
   },
   "outputs": [],
   "source": [
    "import seaborn as sb\n",
    "\n",
    "# Use the poster style and a whitegrid\n",
    "plt.style.use('seaborn')\n",
    "sb.set_context('poster')\n",
    "sb.set_style('whitegrid')"
   ]
  },
  {
   "cell_type": "code",
   "execution_count": 12,
   "metadata": {},
   "outputs": [
    {
     "data": {
      "text/plain": [
       "Text(0,0.5,'Y(s)')"
      ]
     },
     "execution_count": 12,
     "metadata": {},
     "output_type": "execute_result"
    },
    {
     "data": {
      "image/png": "[encoded data removed]",
      "text/plain": [
       "<Figure size 921.6x633.6 with 1 Axes>"
      ]
     },
     "metadata": {},
     "output_type": "display_data"
    }
   ],
   "source": [
    "# Redo our plotting using the new Seaborn style\n",
    "plt.plot(T,Y)\n",
    "plt.xlabel('Time (sec)')\n",
    "plt.ylabel('Y(s)')"
   ]
  },
  {
   "cell_type": "code",
   "execution_count": 13,
   "metadata": {},
   "outputs": [
    {
     "data": {
      "text/plain": [
       "Text(0,0.5,'Y(s)')"
      ]
     },
     "execution_count": 13,
     "metadata": {},
     "output_type": "execute_result"
    },
    {
     "data": {
      "image/png": "[encoded data removed]",
      "text/plain": [
       "<Figure size 432x288 with 1 Axes>"
      ]
     },
     "metadata": {},
     "output_type": "display_data"
    }
   ],
   "source": [
    "# If you don't like it, reset the style using reset_orig()\n",
    "sb.reset_orig()\n",
    "plt.plot(T,Y)\n",
    "plt.xlabel('Time (sec)')\n",
    "plt.ylabel('Y(s)')"
   ]
  },
  {
   "cell_type": "markdown",
   "metadata": {},
   "source": [
    "## Poles and Zeros\n",
    "The control library can also tell us the poles and zeros."
   ]
  },
  {
   "cell_type": "code",
   "execution_count": 14,
   "metadata": {},
   "outputs": [
    {
     "name": "stdout",
     "output_type": "stream",
     "text": [
      "Poles:  [-0.5]\n",
      "Zeros:  []\n"
     ]
    }
   ],
   "source": [
    "print('Poles: ', control.pole(G_p))\n",
    "print('Zeros: ', control.zero(G_p))"
   ]
  },
  {
   "cell_type": "markdown",
   "metadata": {},
   "source": [
    "## Notes\n",
    "\n",
    "1. `601b58152080d89575cc677474ec7714e1a34ee2` for the Controls Library seems to be the only working commit in syzygy"
   ]
  },
  {
   "cell_type": "markdown",
   "metadata": {},
   "source": [
    "To be continued.\n",
    "\n",
    "**TODO: fix plots (better formatting and standardization of plotting syntax) and make everything consistent with intro materials in CHBE455**"
   ]
  }
 ],
 "metadata": {
  "kernelspec": {
   "display_name": "Python 3",
   "language": "python",
   "name": "python3"
  },
  "language_info": {
   "codemirror_mode": {
    "name": "ipython",
    "version": 3
   },
   "file_extension": ".py",
   "mimetype": "text/x-python",
   "name": "python",
   "nbconvert_exporter": "python",
   "pygments_lexer": "ipython3",
   "version": "3.6.1"
  }
 },
 "nbformat": 4,
 "nbformat_minor": 2
}
