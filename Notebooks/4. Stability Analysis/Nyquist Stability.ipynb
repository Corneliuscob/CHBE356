{
 "cells": [
  {
   "cell_type": "markdown",
   "metadata": {},
   "source": [
    "# Nyquist Stability\n",
    "\n",
    "TODO: Redraw diagrams using Python code.\n",
    "\n",
    "By the end of this notebook, you should be able to:\n",
    "\n",
    "- [TODO Insert Learning Goals]"
   ]
  },
  {
   "cell_type": "markdown",
   "metadata": {},
   "source": [
    "Nyquist plots and stability is an important topic in classical control, which is usually taught as a \"bonus\" section in undergraduate CHBE control courses. However, it is part of the regular curriculum in MECH/ECE undergrad control, so I consider it necessary to cover it here also in CHBE, at least for those who wish to have a strong background in control.\n",
    "\n",
    "To motivate the use of Nyquist, here are some of its strengths over other methods:\n",
    "\n",
    "- Computationally inexpensive to generate contours vs. root finding or solving Routh-Hurwitz arrays\n",
    "- Contours and clockwise-encirclements are easy to visualize with fairly little practice\n",
    "- Closed-loop stability can be determined regardless of multiple critical (phase cross-over) frequencies, or in the presence of RHP poles in L(s), two cases in which Bode may fail to provide the correct stability conclusions\n",
    "\n",
    "With that, let's look at the well-known, dreaded -1 point and see how it relates to closed-loop instability:\n",
    "\n",
    "![](../../assets/nyquist/negative_one.png)"
   ]
  },
  {
   "cell_type": "code",
   "execution_count": null,
   "metadata": {
    "collapsed": true
   },
   "outputs": [],
   "source": [
    "# TODO replace diagram"
   ]
  },
  {
   "cell_type": "markdown",
   "metadata": {},
   "source": [
    "Above is an empty Nyquist plot with the blue line representing the imaginary axis, and the red arrow representing a vector from the origin to the point $-1$. Suppose that this vector represents a certain open-loop TF, $L(s)$, at some specific frequency $\\omega$. Using simple geometry, we can determine its magnitude and phase as $\\lvert L(j \\omega) \\rvert = 1 = 0dB$ and $\\angle L(j \\omega) = -180^o$, respectively.\n",
    "\n",
    "Recall from Bode that this combination implies $L$ is at its ultimate gain, or at the point of marginal stability. In other words, if any slight extra gain or delay is introduced to $L$, the closed-loop would become unstable. Equivalently, at this $-1$ point, the closed-loop TF $\\big( \\frac{L}{1+L} \\big)$ has a pair of poles located at $\\pm j \\omega_{180}$, which again implies marginal stability. In light of these realizations, as control engineers we strive to stay as far away from the $-1$ point as possible, so as to allow ourselves comfortably large gain and phase margins when designing controllers for our systems.\n",
    "\n",
    "However, at this point we still haven't justified mathematically why we're concerned with the point $-1$ (and not, for example, $-2$ or $-5$) and where the equation $Z = N + P$ comes from.\n",
    "\n",
    "To do this, let's discuss the following 2 concepts:"
   ]
  },
  {
   "cell_type": "markdown",
   "metadata": {},
   "source": [
    "## Contours \n",
    "\n",
    "Tracings or mappings of a rational expression on the complex plane, by cycling its argument (in this case frequency) between $- \\infty$ and $+\\infty$. For example, the expression $F(s) = \\frac{1}{s+1}$ has the spectrum $F(j \\omega) = \\frac{1-j \\omega}{1+\\omega^2}$ which can be evaluated at the following frequencies:"
   ]
  },
  {
   "cell_type": "markdown",
   "metadata": {},
   "source": [
    "| $\\omega$ | $F(j\\omega)$ |\n",
    "|:-------------:|:---------------:|\n",
    "| $-\\infty$   | $0+0^+j$      |\n",
    "| $-1$        | $0.5+0.5j$    |\n",
    "| $0$         | $1+0j$        |\n",
    "| $1$         | $0.5-0.5j$    |\n",
    "| $\\infty$    | $0+0^-j$      |\n",
    "| <img width=50/> | <img width=100/> |\n",
    "\n",
    "*Note:* Take a look at the Markdown code for the table above. The hidden `<img width=200/>` in the last row is a [cool trick](https://stackoverflow.com/questions/36121672/set-table-column-width-via-markdown) to size the table."
   ]
  },
  {
   "cell_type": "markdown",
   "metadata": {},
   "source": [
    "Knowing these points, the contour of F can be traced, and software such as MATLAB can do this relatively quickly:\n",
    "\n",
    "![](../../assets/nyquist/f_contour.png)"
   ]
  },
  {
   "cell_type": "code",
   "execution_count": 7,
   "metadata": {
    "collapsed": true
   },
   "outputs": [],
   "source": [
    "# TODO replace diagram above and diagrams below"
   ]
  },
  {
   "cell_type": "markdown",
   "metadata": {},
   "source": [
    "We can take any rational transfer function and apply the previous procedure to sketch its contour. Knowing this, let's move on to the next important concept, which explains the reason behind the $-1$ point as well as the $Z = N+P$ equation."
   ]
  },
  {
   "cell_type": "markdown",
   "metadata": {},
   "source": [
    "## Cauchy's argument principle\n",
    "\n",
    "The contour of any rational expression will encircle the _origin_ once in a clockwise fashion, **for each additional RHP-zero it has compared to RHP-poles**. Mathematically, this is expressed as:\n",
    "\n",
    "$$ N = Z - P $$\n",
    "\n",
    "where $N$ is the number of clockwise encirclements the contour makes about the origin, $Z$ the number of RHP-zeroes in $F$, and $P$ the number of RHP-poles in $F$. This may look confusing, so let's go through several examples as exercise:"
   ]
  },
  {
   "cell_type": "markdown",
   "metadata": {},
   "source": [
    "1. $F(s)=\\frac{s-1}{s+1}$: $N=Z-P=1-0=1$, So we expect its contour to encircle the origin once clockwise. Indeed, this is confirmed by MATLAB:\n",
    "                \n",
    "![](../../assets/nyquist/f1.png)\n",
    "                \n",
    "2. $F(s)=\\frac{(s-2)(s-3)}{(s-1)(s-4)}$: $N=Z-P=2-2=0$, so we expect no clockwise encirclements of the origin, which is again confirmed using MATLAB:\n",
    "                \n",
    "![](../../assets/nyquist/f2.png)\n",
    "\n",
    "3. $F(s)=\\frac{(s-15)(s-0.8)}{(s+1.1)(s+4.7)}$: $N=Z-P=2-0=2$, so we expect two clockwise encirclements of the origin:\n",
    "            \n",
    "![](../../assets/nyquist/f3.png)\n",
    "            \n",
    "4. $F(s)=\\frac{s+1}{(s-2)(s-3)}$: $N=Z-P=0-2=-2$; since $N$ is negative, we expect two \\textit{counterclockwise} encirclements of the origin, which is again confirmed:\n",
    "                \n",
    "![](../../assets/nyquist/f4.png)\n",
    "\n",
    "So Cauchy's argument principle turns out to be pretty straightforward: it tells us **how many more RHP-zeroes than RHP-poles a TF has**. "
   ]
  },
  {
   "cell_type": "markdown",
   "metadata": {},
   "source": [
    "## Proof for Nyquist Stability\n",
    "\n",
    "But so far we've discussed encirclements about the **origin**; how does this translate to the well-known $-1$ point in Nyquist stability? Usually profound realizations (or proofs) are made by connecting a series of trivial statements, and this is no exception.\n",
    "\n",
    "Consider the following equivalent statements:\n",
    "\n",
    "1. The closed-loop is unstable if the TF $\\big( \\frac{L}{1+L} \\big)$ has at least one RHP-pole.\n",
    "2. If the TF $\\big( \\frac{L}{1+L} \\big)$ has at least one RHP-pole, then the TF $(1+L)$ has at least one RHP-zero.\n",
    "3. If the TF $(1+L)$ has at least one RHP-zero, then its contour will encircle the origin at least once clockwise, according to \\textbf{Cauchy's argument principle.}\n",
    "4. The TF $L$ is equal to $(1+L)-1$. In other words, the contour of $L$ is the contour of $(1+L)$ shifted to the left by one unit, on the complex plane.\n",
    "5. If the contour of $1+L$ encircles the origin at least once clockwise, \\textbf{then the contour of $L$ will encircle the point $-1$ at least once clockwise.}\n",
    "\n",
    "The final statement above completes the proof for Nyquist stability."
   ]
  },
  {
   "cell_type": "markdown",
   "metadata": {},
   "source": [
    "## Margins\n",
    "\n",
    "As a last exercise, let's visually deduce the Gain and Phase Margins on a Nyquist plot, using our understanding from Bode and simple geometry:\n",
    "\n",
    "![](../../assets/nyquist/margins.png)\n",
    "\n",
    "In the previous figure, the black solid curve represents the contour of $L(j\\omega)$. At the point **<font color='blue'>1</font>**, $\\angle L(j\\omega)=-180^o$, therefore the corresponding frequency is $\\omega = \\omega_{180}$. The length of the vector spanning from the origin to the point **<font color='blue'>1</font>** is $\\lvert L(j\\omega_{180})\\rvert$, which is the **inverse of the Gain Margin**.\n",
    "\n",
    "On the other hand, the point **<font color='red'>2</font>** is the intersection between the contour of $L(j\\omega)$ and the unit circle, so $\\lvert L(j\\omega)\\rvert = 1$ here, therefore the corresponding frequency is $\\omega=\\omega_{0dB}$. The **Phase Margin** is therefore the difference between the phase at this point and $-180^o$, i.e. $\\angle L(j\\omega_{0dB})-(-180^o)$.\n",
    "\n",
    "From the figure above, we can see that both the Gain and Phase Margins can be geometrically interpreted as ``distances\" from the $-1$ point, which we try to stay as far away from as possible."
   ]
  },
  {
   "cell_type": "markdown",
   "metadata": {},
   "source": [
    "## References\n",
    "\n",
    "- Notes written by Yiting Tsai (Sept 2018)"
   ]
  }
 ],
 "metadata": {
  "kernelspec": {
   "display_name": "Python 3",
   "language": "python",
   "name": "python3"
  },
  "language_info": {
   "codemirror_mode": {
    "name": "ipython",
    "version": 3
   },
   "file_extension": ".py",
   "mimetype": "text/x-python",
   "name": "python",
   "nbconvert_exporter": "python",
   "pygments_lexer": "ipython3",
   "version": "3.6.1"
  }
 },
 "nbformat": 4,
 "nbformat_minor": 2
}
